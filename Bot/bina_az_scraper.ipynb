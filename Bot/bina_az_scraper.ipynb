{
 "cells": [
  {
   "cell_type": "markdown",
   "id": "59ac3613",
   "metadata": {},
   "source": [
    "### Scraping processes"
   ]
  },
  {
   "cell_type": "code",
   "execution_count": 1,
   "id": "5d96fe7d",
   "metadata": {},
   "outputs": [],
   "source": [
    "#!pip install selenium\n",
    "from selenium import webdriver\n",
    "from selenium.webdriver.common.keys import Keys\n",
    "from selenium.webdriver.common.by import By\n",
    "import time\n",
    "import os\n",
    "import pandas as pd\n",
    "from datetime import datetime"
   ]
  },
  {
   "cell_type": "code",
   "execution_count": 2,
   "id": "9ae13568",
   "metadata": {},
   "outputs": [
    {
     "name": "stdout",
     "output_type": "stream",
     "text": [
      "Zəhmət olmasa nümunə formasında elan növünü qeyd edin: 1-Alış/ 2-Kirayə1\n",
      "Zəhmət olmasa nümunə formasında əmlak növünü qeyd edin: 1-Mənzil/2-Yeni tikili/3-Köhnə tikili/4-Ev-villa/5-Bağ2\n",
      "Zəhmət olmasa nümunə formasında ərazini qeyd edin: 1-Nərimanov r/2-Nizami r/3-Yasamal r1\n",
      "Zəhmət olmasa istədiyiniz minimum elan sayını ədədlə qeyd edin: 3000\n"
     ]
    }
   ],
   "source": [
    "ads_type = 0\n",
    "estate_type =0\n",
    "region = 0\n",
    "\n",
    "while True:\n",
    "    ads_type = input(\"Zəhmət olmasa nümunə formasında elan növünü qeyd edin: 1-Alış/ 2-Kirayə\")\n",
    "    try:\n",
    "        ads_type =int(ads_type)\n",
    "        if ads_type in (1,2):\n",
    "            break \n",
    "    except ValueError:\n",
    "            print(\"Daxil edilən məlumatda uyğunsuzluq var. Yenidən daxil edin!\")\n",
    "            \n",
    "while True:\n",
    "    estate_type = input(\"Zəhmət olmasa nümunə formasında əmlak növünü qeyd edin: 1-Mənzil/2-Yeni tikili/3-Köhnə tikili/4-Ev-villa/5-Bağ\")\n",
    "    try:\n",
    "        estate_type =int(estate_type)\n",
    "        if estate_type in (1,2,3,4,5):\n",
    "            break \n",
    "    except ValueError:\n",
    "            print(\"Daxil edilən məlumatda uyğunsuzluq var. Yenidən daxil edin!\")        \n",
    "            \n",
    "while True:\n",
    "    region = input(\"Zəhmət olmasa nümunə formasında ərazini qeyd edin: 1-Nərimanov r/2-Nizami r/3-Yasamal r\")\n",
    "    try:\n",
    "        region =int(region)\n",
    "        if region in (1,2,3):\n",
    "            break \n",
    "    except ValueError:\n",
    "            print(\"Daxil edilən məlumatda uyğunsuzluq var. Yenidən daxil edin!\")  \n",
    "            \n",
    "while True:\n",
    "    elan_sayi = input(\"Zəhmət olmasa istədiyiniz minimum elan sayını ədədlə qeyd edin: \")\n",
    "    try:\n",
    "        elan_sayi =int(elan_sayi)\n",
    "        break\n",
    "    except ValueError:\n",
    "            print(\"Daxil edilən sayda uyğunsuzluq var. Yenidən rəqəm formasında daxil edin!\")        "
   ]
  },
  {
   "cell_type": "code",
   "execution_count": 3,
   "id": "78866ff9",
   "metadata": {},
   "outputs": [
    {
     "name": "stdout",
     "output_type": "stream",
     "text": [
      "Elan növü: Alış; Əmlak növü: Yeni tikili; Region: Nərimanov r.\n"
     ]
    }
   ],
   "source": [
    "#Check ad type\n",
    "if ads_type == 1:\n",
    "    ads_type = \"Alış\"\n",
    "if ads_type == 2:\n",
    "    ads_type = \"Kirayə\"\n",
    "    \n",
    "#Check estate type  \n",
    "if estate_type == 1:\n",
    "    estate_type = \"Mənzil\"\n",
    "if estate_type == 2:\n",
    "    estate_type = \"Yeni tikili\"\n",
    "if estate_type == 3:\n",
    "    estate_type = \"Köhnə tikili\"\n",
    "if estate_type == 4:\n",
    "    estate_type = \"Ev / villa\"\n",
    "if estate_type == 5:\n",
    "    estate_type = \"Bağ\"\n",
    "    \n",
    "#Check region\n",
    "if region == 1:\n",
    "    region = \"Nərimanov r.\"\n",
    "if region == 2:\n",
    "    region = \"Nizami r.\"\n",
    "if region == 3:\n",
    "    region = \"Yasamal r.\"\n",
    "print(f\"Elan növü: {ads_type}; Əmlak növü: {estate_type}; Region: {region}\")\n",
    "\n",
    "#Set ad count\n",
    "ad_count = elan_sayi\n"
   ]
  },
  {
   "cell_type": "code",
   "execution_count": 4,
   "id": "fa100f4e",
   "metadata": {},
   "outputs": [],
   "source": [
    "class BinaAz:    \n",
    "    def __init__(self,ads_type,estate_type,region,ad_count):\n",
    "        self.browserProfile = webdriver.ChromeOptions() \n",
    "        self.browserProfile.add_experimental_option('prefs', {'intl.accept_languages':'en,en_US'}) \n",
    "        self.browser = webdriver.Chrome(\"chromedriver.exe\", chrome_options=self.browserProfile)\n",
    "        self.browser = webdriver.Chrome()\n",
    "        self.ads_type=ads_type\n",
    "        self.estate_type=estate_type\n",
    "        self.region=region\n",
    "        self.ad_count =ad_count\n",
    "        self.id_set=set()\n",
    "        self.ad_info_list =[]\n",
    "        self.browser.get(\"https://bina.az/\")\n",
    "        time.sleep(0.5)\n",
    "        self.browser.find_element(\"xpath\",\"//*[@id='new_q']/div[1]/div[1]/div[1]/div[2]\").click()\n",
    "        self.browser.find_element(\"xpath\",f\"//span[.='{self.ads_type}']\").click()\n",
    "        time.sleep(0.5)\n",
    "        self.browser.find_element(\"xpath\",\"//*[@id='new_q']/div[1]/div[2]/div[1]/div[2]\").click()\n",
    "        time.sleep(0.5)\n",
    "        self.browser.find_element(\"xpath\",f\"//span[.='{self.estate_type}']\").click()\n",
    "        time.sleep(1)\n",
    "        self.browser.find_element(\"xpath\",\" //*[@id='js-search-row-filters-btn']\").click()\n",
    "        time.sleep(4)\n",
    "        self.browser.find_element(\"xpath\",\"//*[@id='js-search-filters-row-locations']/div[2]/a[1]\").click()\n",
    "        time.sleep(1)\n",
    "        self.browser.find_element(\"xpath\",f\"//span[.='{self.region}']\").click()\n",
    "        time.sleep(0.5)\n",
    "        self.browser.find_element(\"xpath\",\"//*[@id='js-search-locations']/div/div[3]/div[2]/div[2]/div[5]\").click()\n",
    "        time.sleep(0.5)\n",
    "        self.browser.find_element(\"xpath\",\"//*[@id='js-search-filters']/div[2]/button\").click()\n",
    "        time.sleep(5)\n",
    "        \n",
    "    def get_id(self):\n",
    "        ad_box = self.browser.find_element(By.CSS_SELECTOR, \"#js-items-search > div.items_list\")\n",
    "        #print(allAdBox)\n",
    "        all_ads = ad_box.find_elements(By.CLASS_NAME, \"items-i\")\n",
    "        for ad in all_ads:\n",
    "            ad_id = ad.get_attribute(\"data-item-id\")\n",
    "            self.id_set.add(ad_id)\n",
    "            \n",
    "    def showAddElements(self):\n",
    "        print (self.id_set)\n",
    "        \n",
    "    def showElementCount(self):\n",
    "        print(f\"\\rGötürülən elan id sayı: {len(self.id_set)}\",end =\"\")\n",
    "        return len(self.id_set)\n",
    "        \n",
    "        \n",
    "    def navigate_page(self):\n",
    "        while True:\n",
    "            time.sleep(5)\n",
    "            if self.showElementCount()>self.ad_count:\n",
    "                break\n",
    "            self.showElementCount()\n",
    "            self.get_id()\n",
    "            button_box = self.browser.find_element(By.CLASS_NAME, \"pagination-inner\").find_elements(By.TAG_NAME,\"span\")\n",
    "            lastbuttonClass = button_box[len(button_box)-1].get_attribute(\"class\")\n",
    "            if(lastbuttonClass == \"next\"):\n",
    "                button_box[len(button_box)-1].click()\n",
    "            else:\n",
    "                break\n",
    "                \n",
    "            \n",
    "    def save_ad_information(self):\n",
    "        \n",
    "        for ad_id in self.id_set:\n",
    "            checked = len(self.ad_info_list)\n",
    "            print(f\"\\rGötürülən uyğun elan məlumatları sayı:{checked}\",end =\"\")\n",
    "            \n",
    "            self.browser.get(f\"https://bina.az/items/{ad_id}\")\n",
    "            time.sleep(1)\n",
    "            current_url = self.browser.current_url\n",
    "            if \"yasayis-kompleksleri\" in current_url:\n",
    "                continue\n",
    "            table_details = self.browser.find_elements(By.CSS_SELECTOR, \"#js-item-show > div.item_show_content > div.side > div.parameters_section > div.param_info > table > tbody>tr\")\n",
    "            ad_info={}\n",
    "            ad_info[\"ad_id\"]=ad_id\n",
    "            for row in table_details:\n",
    "                    td_1 = row.find_elements(By.TAG_NAME,\"td\")[0].text\n",
    "                    if td_1 ==\"Kateqoriya\":\n",
    "                        ad_cat = row.find_elements(By.TAG_NAME,\"td\")[1].text\n",
    "                        ad_info[\"ad_cat\"]=ad_cat\n",
    "                    elif td_1 ==\"Mərtəbə\":\n",
    "                        ad_floor = row.find_elements(By.TAG_NAME,\"td\")[1].text\n",
    "                        ad_info[\"add_floor\"] =ad_floor\n",
    "                    elif td_1 ==\"Sahə\":\n",
    "                        ad_square = row.find_elements(By.TAG_NAME,\"td\")[1].text\n",
    "                        ad_info[\"ad_square\"] =ad_square \n",
    "                    elif td_1 ==\"Otaq sayı\":\n",
    "                        ad_room = row.find_elements(By.TAG_NAME,\"td\")[1].text\n",
    "                        ad_info[\"ad_room\"] =ad_room\n",
    "                    elif td_1 ==\"Çıxarış\":\n",
    "                        ad_doc = row.find_elements(By.TAG_NAME,\"td\")[1].text\n",
    "                        ad_info[\"ad_doc\"] =ad_doc\n",
    "                    elif td_1 ==\"İpoteka\":\n",
    "                        ad_mortgage = row.find_elements(By.TAG_NAME,\"td\")[1].text\n",
    "                        ad_info[\"ad_mortgage\"] =ad_mortgage\n",
    "                    elif td_1 ==\"Təmir\":\n",
    "                        ad_repair = row.find_elements(By.TAG_NAME,\"td\")[1].text\n",
    "                        ad_info[\"ad_repair\"] =ad_repair\n",
    "                    else:\n",
    "                        continue\n",
    "                    \n",
    "                    \n",
    "                        \n",
    "            ad_info[\"view_count\"]=self.browser.find_element(By.CSS_SELECTOR,\"#js-item-show > div.item_show_content > div.info > div.item_info > p:nth-child(2)\").text\n",
    "            ad_info[\"ad_time\"]=self.browser.find_element(By.CSS_SELECTOR,\"#js-item-show > div.item_show_content > div.info > div.item_info > p:nth-child(3)\").text   \n",
    "            ad_info[\"ad_address\"]=self.browser.find_element(By.CSS_SELECTOR,\"#js-item-show > div.item_show_content > div.side > div.parameters_section > div.map-link > section > div\").text\n",
    "            ad_info[\"ad_price\"]=self.browser.find_element(By.CSS_SELECTOR,\"#js-item-show > div.price_header > section > p > span.price-val\").text\n",
    "            ad_info[\"ad_price_currency\"]=self.browser.find_element(By.CSS_SELECTOR,\"#js-item-show > div.price_header > section > p > span.price-cur\").text\n",
    "            self.ad_info_list.append(ad_info)\n",
    "            \n",
    "                      \n",
    "       "
   ]
  },
  {
   "cell_type": "code",
   "execution_count": 5,
   "id": "f0440980",
   "metadata": {
    "scrolled": true
   },
   "outputs": [
    {
     "name": "stderr",
     "output_type": "stream",
     "text": [
      "C:\\Users\\User\\AppData\\Local\\Temp\\ipykernel_16072\\3334217987.py:5: DeprecationWarning: executable_path has been deprecated, please pass in a Service object\n",
      "  self.browser = webdriver.Chrome(\"chromedriver.exe\", chrome_options=self.browserProfile)\n",
      "C:\\Users\\User\\AppData\\Local\\Temp\\ipykernel_16072\\3334217987.py:5: DeprecationWarning: use options instead of chrome_options\n",
      "  self.browser = webdriver.Chrome(\"chromedriver.exe\", chrome_options=self.browserProfile)\n"
     ]
    },
    {
     "name": "stdout",
     "output_type": "stream",
     "text": [
      "Götürülən elan id sayı: 3021"
     ]
    }
   ],
   "source": [
    "data =BinaAz(ads_type,estate_type,region,elan_sayi)\n",
    "data.navigate_page()"
   ]
  },
  {
   "cell_type": "code",
   "execution_count": 6,
   "id": "53e871c5",
   "metadata": {},
   "outputs": [
    {
     "name": "stdout",
     "output_type": "stream",
     "text": [
      "Götürülən uyğun elan məlumatları sayı:2996"
     ]
    }
   ],
   "source": [
    "data.save_ad_information()"
   ]
  },
  {
   "cell_type": "markdown",
   "id": "2d20ccf2",
   "metadata": {},
   "source": [
    "### Creating pandas dataframe from the scraped data"
   ]
  },
  {
   "cell_type": "code",
   "execution_count": 16,
   "id": "4e31cee9",
   "metadata": {},
   "outputs": [],
   "source": [
    "df = pd.DataFrame(data.ad_info_list,columns=['ad_id', 'ad_cat','add_floor','ad_square','ad_room','ad_price','ad_price_currency',\n",
    "                                             'ad_doc','ad_mortgage','ad_repair','ad_address','view_count','ad_time'])"
   ]
  },
  {
   "cell_type": "markdown",
   "id": "2e572709",
   "metadata": {},
   "source": [
    "### Saving data to an excel file"
   ]
  },
  {
   "cell_type": "code",
   "execution_count": 18,
   "id": "abc94540",
   "metadata": {},
   "outputs": [],
   "source": [
    "#saving params\n",
    "currentMinute = datetime.now().minute\n",
    "currentHour = datetime.now().hour\n",
    "currentDay = datetime.now().day\n",
    "currentMonth = datetime.now().month\n",
    "currentYear = datetime.now().year"
   ]
  },
  {
   "cell_type": "code",
   "execution_count": 19,
   "id": "7c85fdf0",
   "metadata": {},
   "outputs": [],
   "source": [
    "# saving scraped data for analysis\n",
    "df.to_excel(f\"{currentYear}-{currentMonth}-{currentDay}-{currentHour}-{currentMinute}-{data.ads_type}_{data.estate_type}_{data.region}.xlsx\")"
   ]
  },
  {
   "cell_type": "code",
   "execution_count": null,
   "id": "1b2f9069",
   "metadata": {},
   "outputs": [],
   "source": []
  }
 ],
 "metadata": {
  "kernelspec": {
   "display_name": "Python 3 (ipykernel)",
   "language": "python",
   "name": "python3"
  },
  "language_info": {
   "codemirror_mode": {
    "name": "ipython",
    "version": 3
   },
   "file_extension": ".py",
   "mimetype": "text/x-python",
   "name": "python",
   "nbconvert_exporter": "python",
   "pygments_lexer": "ipython3",
   "version": "3.9.13"
  }
 },
 "nbformat": 4,
 "nbformat_minor": 5
}
